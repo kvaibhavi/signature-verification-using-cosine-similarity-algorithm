{
 "cells": [
  {
   "cell_type": "code",
   "execution_count": 1,
   "metadata": {},
   "outputs": [],
   "source": [
    "import tensorflow as tf\n",
    "import tensorflow_hub as hub\n",
    "import numpy as np\n",
    "import os\n",
    "import pandas as pd\n",
    "import matplotlib.pyplot as plt \n",
    "import base64\n",
    "from PIL import Image\n",
    "import io\n",
    "import math \n",
    "from math import sqrt\n",
    "import cv2\n",
    "\n",
    "%matplotlib inline\n",
    "\n",
    "global embed\n",
    "embed = hub.KerasLayer(os.getcwd())\n",
    "\n",
    "\n"
   ]
  },
  {
   "cell_type": "code",
   "execution_count": 2,
   "metadata": {},
   "outputs": [],
   "source": [
    "class TensorVector(object):\n",
    "\n",
    "    def __init__(self, FileName=None):\n",
    "        self.FileName = FileName\n",
    "\n",
    "    def process(self):\n",
    "\n",
    "        img = tf.io.read_file(self.FileName)\n",
    "        img = tf.io.decode_jpeg(img, channels=3)\n",
    "        img = tf.image.resize_with_pad(img, 224, 224)\n",
    "        img = tf.image.convert_image_dtype(img,tf.float32)[tf.newaxis, ...]\n",
    "        features = embed(img)\n",
    "        feature_set = np.squeeze(features)\n",
    "        return list(feature_set)"
   ]
  },
  {
   "cell_type": "code",
   "execution_count": 3,
   "metadata": {},
   "outputs": [],
   "source": [
    "def convertBase64(FileName):\n",
    "    \"\"\"\n",
    "    Return the Numpy array for a image \n",
    "    \"\"\"\n",
    "    with open(FileName, \"rb\") as f:\n",
    "        data = f.read()\n",
    "        \n",
    "    res = base64.b64encode(data)\n",
    "    \n",
    "    base64data = res.decode(\"UTF-8\")\n",
    "    \n",
    "    imgdata = base64.b64decode(base64data)\n",
    "    \n",
    "    image = Image.open(io.BytesIO(imgdata))\n",
    "    \n",
    "    return np.array(image)"
   ]
  },
  {
   "cell_type": "code",
   "execution_count": 4,
   "metadata": {},
   "outputs": [],
   "source": [
    "def preprocessor():\n",
    "    image = cv2.imread('images/sign1.jpeg')\n",
    "    image1 = cv2.imread('images/sign2.jpeg')\n",
    "    result = cv2.imread('images/sign1.jpeg')\n",
    "    result1 = cv2.imread('images/sign2.jpeg')\n",
    "    #plt.imshow(convertBase64('images/im1.jpeg'))\n",
    "    \n",
    "    #cv2.waitKey(0)\n",
    "    #cv2.destroyAllWindows()\n",
    "    \n",
    "    image = cv2.cvtColor(image, cv2.COLOR_BGR2HSV)\n",
    "    image1 = cv2.cvtColor(image1, cv2.COLOR_BGR2HSV)\n",
    "\n",
    "    lower = np.array([90, 38, 0])\n",
    "    upper = np.array([145, 255, 255])\n",
    "\n",
    "\n",
    "    mask = cv2.inRange(image, lower, upper)\n",
    "\n",
    "    kernel = cv2.getStructuringElement(cv2.MORPH_RECT, (3,3))\n",
    "\n",
    "    opening = cv2.morphologyEx(mask, cv2.MORPH_OPEN, kernel, iterations=1)\n",
    "\n",
    "    close = cv2.morphologyEx(opening, cv2.MORPH_CLOSE, kernel, iterations=2)\n",
    "\n",
    "    cnts = cv2.findContours(close, cv2.RETR_EXTERNAL, cv2.CHAIN_APPROX_SIMPLE)\n",
    "\n",
    "\n",
    "    cnts = cnts[0] if len(cnts) == 2 else cnts[1]\n",
    "\n",
    "    boxes = []\n",
    "    for c in cnts:\n",
    "        (x, y, w, h) = cv2.boundingRect(c)\n",
    "        boxes.append([x,y, x+w,y+h])\n",
    "\n",
    "    boxes = np.asarray(boxes)\n",
    "    left = np.min(boxes[:,0])\n",
    "    top = np.min(boxes[:,1])\n",
    "    right = np.max(boxes[:,2])\n",
    "    bottom = np.max(boxes[:,3])\n",
    "\n",
    "    result[close==0] = (255,255,255)\n",
    "    ROI = result[top:bottom, left:right].copy()\n",
    "    rect=cv2.rectangle(result, (left,top), (right,bottom), (36, 255, 12), 2)\n",
    "\n",
    "\n",
    "    lower1 = np.array([90, 38, 0])\n",
    "    upper1 = np.array([145, 255, 255])\n",
    "    mask1 = cv2.inRange(image1, lower1, upper1)\n",
    "\n",
    "    #cv2.imshow(\"mask\",mask1)\n",
    "\n",
    "    kernel1 = cv2.getStructuringElement(cv2.MORPH_RECT, (3,3))\n",
    "\n",
    "    opening1 = cv2.morphologyEx(mask1, cv2.MORPH_OPEN, kernel1, iterations=1)\n",
    "\n",
    "    close1 = cv2.morphologyEx(opening1, cv2.MORPH_CLOSE, kernel1, iterations=2)\n",
    "\n",
    "    cnts1 = cv2.findContours(close1, cv2.RETR_EXTERNAL, cv2.CHAIN_APPROX_SIMPLE)\n",
    "\n",
    "\n",
    "\n",
    "    cnts1 = cnts1[0] if len(cnts1) == 2 else cnts1[1]\n",
    "\n",
    "    boxes1 = []\n",
    "    for c1 in cnts1:\n",
    "        (x, y, w, h) = cv2.boundingRect(c1)\n",
    "        boxes1.append([x,y, x+w,y+h])\n",
    "\n",
    "    boxes1 = np.asarray(boxes1)\n",
    "    left1 = np.min(boxes1[:,0])\n",
    "    top1 = np.min(boxes1[:,1])\n",
    "    right1 = np.max(boxes1[:,2])\n",
    "    bottom1 = np.max(boxes1[:,3])\n",
    "\n",
    "    result1[close1==0] = (255,255,255)\n",
    "    ROI1 = result1[top1:bottom1, left1:right1].copy()\n",
    "    rect1=cv2.rectangle(result1, (left1,top1), (right1,bottom1), (36, 255, 12), 2)\n",
    "    \n",
    "    \n",
    "    cv2.imshow(\"roi\",ROI)\n",
    "    cv2.waitKey(0)\n",
    "    cv2.destroyAllWindows()\n",
    "    cv2.imwrite('images/ROI.png', ROI)\n",
    "    cv2.imwrite('images/ROI1.png', ROI1)\n",
    "  \n"
   ]
  },
  {
   "cell_type": "code",
   "execution_count": 5,
   "metadata": {},
   "outputs": [],
   "source": [
    "preprocessor()"
   ]
  },
  {
   "cell_type": "code",
   "execution_count": 6,
   "metadata": {},
   "outputs": [
    {
     "data": {
      "text/plain": [
       "<matplotlib.image.AxesImage at 0x2335fffba60>"
      ]
     },
     "execution_count": 6,
     "metadata": {},
     "output_type": "execute_result"
    },
    {
     "data": {
      "image/png": "[encoded data removed]",
      "text/plain": [
       "<Figure size 432x288 with 1 Axes>"
      ]
     },
     "metadata": {
      "needs_background": "light"
     },
     "output_type": "display_data"
    }
   ],
   "source": [
    "plt.imshow(convertBase64('images/ROI.png'))"
   ]
  },
  {
   "cell_type": "code",
   "execution_count": 7,
   "metadata": {},
   "outputs": [
    {
     "data": {
      "text/plain": [
       "<matplotlib.image.AxesImage at 0x2335f777040>"
      ]
     },
     "execution_count": 7,
     "metadata": {},
     "output_type": "execute_result"
    },
    {
     "data": {
      "image/png": "[encoded data removed]",
      "text/plain": [
       "<Figure size 432x288 with 1 Axes>"
      ]
     },
     "metadata": {
      "needs_background": "light"
     },
     "output_type": "display_data"
    }
   ],
   "source": [
    "plt.imshow(convertBase64('images/ROI1.png'))"
   ]
  },
  {
   "cell_type": "code",
   "execution_count": 8,
   "metadata": {},
   "outputs": [],
   "source": [
    "helper = TensorVector('images/ROI.png')\n",
    "vector = helper.process()"
   ]
  },
  {
   "cell_type": "code",
   "execution_count": 23,
   "metadata": {},
   "outputs": [
    {
     "data": {
      "text/plain": [
       "1280"
      ]
     },
     "execution_count": 23,
     "metadata": {},
     "output_type": "execute_result"
    }
   ],
   "source": [
    "len(vector)"
   ]
  },
  {
   "cell_type": "code",
   "execution_count": 9,
   "metadata": {},
   "outputs": [],
   "source": [
    "helper = TensorVector(\"images/ROI1.png\")\n",
    "vector2 = helper.process()"
   ]
  },
  {
   "cell_type": "code",
   "execution_count": 25,
   "metadata": {},
   "outputs": [
    {
     "data": {
      "text/plain": [
       "1280"
      ]
     },
     "execution_count": 25,
     "metadata": {},
     "output_type": "execute_result"
    }
   ],
   "source": [
    "len(vector2)"
   ]
  },
  {
   "cell_type": "code",
   "execution_count": 10,
   "metadata": {},
   "outputs": [],
   "source": [
    "def cosineSim(a1,a2):\n",
    "    sum = 0\n",
    "    suma1 = 0\n",
    "    sumb1 = 0\n",
    "    for i,j in zip(a1, a2):\n",
    "        suma1 += i * i\n",
    "        sumb1 += j*j\n",
    "        sum += i*j\n",
    "    cosine_sim = sum / ((sqrt(suma1))*(sqrt(sumb1)))\n",
    "    return cosine_sim\n",
    "    '''if(cosine_sim>=0.91):\n",
    "        print(\"BOTH THE SIGNATURES ARE FROM SAME USER\")\n",
    "    elif(cosine_sim>=0.8 and cosign_sim<0.91):\n",
    "        print(\"SKILLED FORGERY\")\n",
    "    else:\n",
    "        print(\"BOTH ARE NOT FROM SAME USER\")'''"
   ]
  },
  {
   "cell_type": "code",
   "execution_count": 13,
   "metadata": {},
   "outputs": [
    {
     "ename": "NameError",
     "evalue": "name 'cosign_sim' is not defined",
     "output_type": "error",
     "traceback": [
      "\u001b[1;31m---------------------------------------------------------------------------\u001b[0m",
      "\u001b[1;31mNameError\u001b[0m                                 Traceback (most recent call last)",
      "\u001b[1;32m<ipython-input-13-46782c0b930c>\u001b[0m in \u001b[0;36m<module>\u001b[1;34m\u001b[0m\n\u001b[1;32m----> 1\u001b[1;33m \u001b[0mcosineSim\u001b[0m\u001b[1;33m(\u001b[0m\u001b[0mvector\u001b[0m\u001b[1;33m,\u001b[0m \u001b[0mvector2\u001b[0m\u001b[1;33m)\u001b[0m\u001b[1;33m\u001b[0m\u001b[1;33m\u001b[0m\u001b[0m\n\u001b[0m",
      "\u001b[1;32m<ipython-input-12-6c5352b6a13d>\u001b[0m in \u001b[0;36mcosineSim\u001b[1;34m(a1, a2)\u001b[0m\n\u001b[0;32m     11\u001b[0m     \u001b[1;32mif\u001b[0m\u001b[1;33m(\u001b[0m\u001b[0mcosine_sim\u001b[0m\u001b[1;33m>=\u001b[0m\u001b[1;36m0.91\u001b[0m\u001b[1;33m)\u001b[0m\u001b[1;33m:\u001b[0m\u001b[1;33m\u001b[0m\u001b[1;33m\u001b[0m\u001b[0m\n\u001b[0;32m     12\u001b[0m         \u001b[0mprint\u001b[0m\u001b[1;33m(\u001b[0m\u001b[1;34m\"BOTH THE SIGNATURES ARE FROM SAME USER\"\u001b[0m\u001b[1;33m)\u001b[0m\u001b[1;33m\u001b[0m\u001b[1;33m\u001b[0m\u001b[0m\n\u001b[1;32m---> 13\u001b[1;33m     \u001b[1;32melif\u001b[0m\u001b[1;33m(\u001b[0m\u001b[0mcosine_sim\u001b[0m\u001b[1;33m>=\u001b[0m\u001b[1;36m0.8\u001b[0m \u001b[1;32mand\u001b[0m \u001b[0mcosign_sim\u001b[0m\u001b[1;33m<\u001b[0m\u001b[1;36m0.91\u001b[0m\u001b[1;33m)\u001b[0m\u001b[1;33m:\u001b[0m\u001b[1;33m\u001b[0m\u001b[1;33m\u001b[0m\u001b[0m\n\u001b[0m\u001b[0;32m     14\u001b[0m         \u001b[0mprint\u001b[0m\u001b[1;33m(\u001b[0m\u001b[1;34m\"SKILLED FORGERY\"\u001b[0m\u001b[1;33m)\u001b[0m\u001b[1;33m\u001b[0m\u001b[1;33m\u001b[0m\u001b[0m\n\u001b[0;32m     15\u001b[0m     \u001b[1;32melse\u001b[0m\u001b[1;33m:\u001b[0m\u001b[1;33m\u001b[0m\u001b[1;33m\u001b[0m\u001b[0m\n",
      "\u001b[1;31mNameError\u001b[0m: name 'cosign_sim' is not defined"
     ]
    }
   ],
   "source": [
    "cosineSim(vector, vector2)"
   ]
  },
  {
   "cell_type": "code",
   "execution_count": 11,
   "metadata": {},
   "outputs": [],
   "source": [
    "res=cosineSim(vector, vector2)"
   ]
  },
  {
   "cell_type": "code",
   "execution_count": 12,
   "metadata": {},
   "outputs": [
    {
     "name": "stdout",
     "output_type": "stream",
     "text": [
      "0.9410711769445564\n"
     ]
    }
   ],
   "source": [
    "print(res)"
   ]
  },
  {
   "cell_type": "code",
   "execution_count": null,
   "metadata": {},
   "outputs": [],
   "source": []
  }
 ],
 "metadata": {
  "kernelspec": {
   "display_name": "Python 3",
   "language": "python",
   "name": "python3"
  },
  "language_info": {
   "codemirror_mode": {
    "name": "ipython",
    "version": 3
   },
   "file_extension": ".py",
   "mimetype": "text/x-python",
   "name": "python",
   "nbconvert_exporter": "python",
   "pygments_lexer": "ipython3",
   "version": "3.8.3"
  }
 },
 "nbformat": 4,
 "nbformat_minor": 4
}
